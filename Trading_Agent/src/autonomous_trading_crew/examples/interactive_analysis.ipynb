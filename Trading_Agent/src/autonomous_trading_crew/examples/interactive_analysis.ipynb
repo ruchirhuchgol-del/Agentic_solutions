{
 "cells": [
  {
   "cell_type": "markdown",
   "id": "a15fd5e1",
   "metadata": {},
   "source": [
    "# Autonomous Trading Crew - Interactive Analysis\n",
    "\n",
    "This notebook demonstrates how to use the Autonomous Trading Crew for interactive stock analysis."
   ]
  },
  {
   "cell_type": "code",
   "execution_count": 1,
   "id": "9da53449",
   "metadata": {},
   "outputs": [
    {
     "ename": "ModuleNotFoundError",
     "evalue": "No module named 'autonomous_trading_crew'",
     "output_type": "error",
     "traceback": [
      "\u001b[31m---------------------------------------------------------------------------\u001b[39m",
      "\u001b[31mModuleNotFoundError\u001b[39m                       Traceback (most recent call last)",
      "\u001b[36mCell\u001b[39m\u001b[36m \u001b[39m\u001b[32mIn[1]\u001b[39m\u001b[32m, line 13\u001b[39m\n\u001b[32m     10\u001b[39m sys.path.append(os.path.join(os.getcwd(), \u001b[33m'\u001b[39m\u001b[33m..\u001b[39m\u001b[33m'\u001b[39m))\n\u001b[32m     12\u001b[39m \u001b[38;5;66;03m# Import our crew\u001b[39;00m\n\u001b[32m---> \u001b[39m\u001b[32m13\u001b[39m \u001b[38;5;28;01mfrom\u001b[39;00m\u001b[38;5;250m \u001b[39m\u001b[34;01mautonomous_trading_crew\u001b[39;00m\u001b[34;01m.\u001b[39;00m\u001b[34;01mcrew\u001b[39;00m\u001b[38;5;250m \u001b[39m\u001b[38;5;28;01mimport\u001b[39;00m AutonomousTradingCrewCrew\n",
      "\u001b[31mModuleNotFoundError\u001b[39m: No module named 'autonomous_trading_crew'"
     ]
    }
   ],
   "source": [
    "# Import required libraries\n",
    "import sys\n",
    "import os\n",
    "import json\n",
    "import pandas as pd\n",
    "import matplotlib.pyplot as plt\n",
    "import seaborn as sns\n",
    "\n",
    "# Add the project root to the path\n",
    "sys.path.append(os.path.join(os.getcwd(), '..'))\n",
    "\n",
    "# Import our crew\n",
    "from autonomous_trading_crew.crew import AutonomousTradingCrewCrew"
   ]
  },
  {
   "cell_type": "code",
   "execution_count": null,
   "id": "8de8c2f8",
   "metadata": {},
   "outputs": [],
   "source": [
    "# Set up the analysis\n",
    "stock_symbol = \"AAPL\"  # Change this to any stock symbol you want to analyze\n",
    "\n",
    "print(f\"🤖 Analyzing {stock_symbol} with Autonomous Trading Crew\")\n",
    "print(\"=\"*50)"
   ]
  },
  {
   "cell_type": "code",
   "execution_count": null,
   "id": "6625c2f5",
   "metadata": {},
   "outputs": [],
   "source": [
    "# Run the analysis\n",
    "inputs = {'stock_symbol': stock_symbol}\n",
    "crew = AutonomousTradingCrewCrew().crew()\n",
    "\n",
    "print(\"Starting analysis...\")\n",
    "result = crew.kickoff(inputs=inputs)\n",
    "print(\"Analysis completed!\")"
   ]
  },
  {
   "cell_type": "code",
   "execution_count": null,
   "id": "3a401d47",
   "metadata": {},
   "outputs": [],
   "source": [
    "# Display the results\n",
    "print(\"\\n📄 Analysis Results:\")\n",
    "print(\"=\"*50)\n",
    "\n",
    "# Try to parse the result\n",
    "try:\n",
    "    if isinstance(result.raw, str):\n",
    "        result_data = json.loads(result.raw)\n",
    "    else:\n",
    "        result_data = result.raw\n",
    "    \n",
    "    # Pretty print the result\n",
    "    print(json.dumps(result_data, indent=2))\n",
    "except:\n",
    "    print(result.raw)"
   ]
  },
  {
   "cell_type": "markdown",
   "id": "6d669e03",
   "metadata": {},
   "source": [
    "# Interactive widget for changing stock symbol"
   ]
  },
  {
   "cell_type": "code",
   "execution_count": null,
   "id": "c033a088",
   "metadata": {},
   "outputs": [],
   "source": [
    "import ipywidgets as widgets\n",
    "from IPython.display import display\n",
    "\n",
    "def analyze_stock(stock_symbol):\n",
    "    print(f\"🤖 Analyzing {stock_symbol}...\")\n",
    "    inputs = {'stock_symbol': stock_symbol}\n",
    "    crew = AutonomousTradingCrewCrew().crew()\n",
    "    result = crew.kickoff(inputs=inputs)\n",
    "    \n",
    "    try:\n",
    "        if isinstance(result.raw, str):\n",
    "            result_data = json.loads(result.raw)\n",
    "        else:\n",
    "            result_data = result.raw\n",
    "        print(json.dumps(result_data, indent=2))\n",
    "    except:\n",
    "        print(result.raw)\n",
    "\n",
    "# Create widget\n",
    "stock_widget = widgets.Text(\n",
    "    value='AAPL',\n",
    "    placeholder='Enter stock symbol',\n",
    "    description='Stock:',\n",
    "    disabled=False\n",
    ")\n",
    "\n",
    "button = widgets.Button(\n",
    "    description=\"Analyze\",\n",
    "    disabled=False,\n",
    "    button_style='success',\n",
    "    tooltip='Analyze Stock',\n",
    ")\n",
    "\n",
    "def on_button_click(b):\n",
    "    analyze_stock(stock_widget.value.upper())\n",
    "\n",
    "button.on_click(on_button_click)\n",
    "\n",
    "display(stock_widget, button)"
   ]
  }
 ],
 "metadata": {
  "kernelspec": {
   "display_name": ".venv",
   "language": "python",
   "name": "python3"
  },
  "language_info": {
   "codemirror_mode": {
    "name": "ipython",
    "version": 3
   },
   "file_extension": ".py",
   "mimetype": "text/x-python",
   "name": "python",
   "nbconvert_exporter": "python",
   "pygments_lexer": "ipython3",
   "version": "3.13.0"
  }
 },
 "nbformat": 4,
 "nbformat_minor": 5
}
